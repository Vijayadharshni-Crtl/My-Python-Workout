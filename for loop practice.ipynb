{
 "cells": [
  {
   "cell_type": "code",
   "execution_count": 8,
   "metadata": {},
   "outputs": [
    {
     "name": "stdout",
     "output_type": "stream",
     "text": [
      "3\n",
      "4\n",
      "5\n",
      "6\n",
      "7\n",
      "8\n",
      "9\n",
      "10\n"
     ]
    }
   ],
   "source": [
    "for karthik in range(3,11):\n",
    "    print(karthik)"
   ]
  },
  {
   "cell_type": "code",
   "execution_count": 12,
   "metadata": {},
   "outputs": [
    {
     "data": {
      "text/plain": [
       "{0, 1, 2, 3, 4, 5, 6, 7, 8, 9, 10}"
      ]
     },
     "execution_count": 12,
     "metadata": {},
     "output_type": "execute_result"
    }
   ],
   "source": [
    "set(range(0,11))"
   ]
  },
  {
   "cell_type": "code",
   "execution_count": 14,
   "metadata": {},
   "outputs": [
    {
     "name": "stdout",
     "output_type": "stream",
     "text": [
      "the index at k is 0\n",
      "the index at a is 1\n",
      "the index at r is 2\n",
      "the index at t is 3\n",
      "the index at h is 4\n",
      "the index at i is 5\n",
      "the index at k is 6\n"
     ]
    }
   ],
   "source": [
    "count = 0\n",
    "for i in \"karthik\":\n",
    "    print(\"the index at {} is {}\".format(i,count))\n",
    "    count = count + 1"
   ]
  },
  {
   "cell_type": "code",
   "execution_count": 18,
   "metadata": {},
   "outputs": [
    {
     "name": "stdout",
     "output_type": "stream",
     "text": [
      "27\n",
      "6\n"
     ]
    }
   ],
   "source": [
    "list = {\"k1\":27,\"k2\":6}\n",
    "for a,b in list.items():\n",
    "    print(b)"
   ]
  },
  {
   "cell_type": "code",
   "execution_count": 19,
   "metadata": {},
   "outputs": [
    {
     "name": "stdout",
     "output_type": "stream",
     "text": [
      "27\n",
      "6\n",
      "2007\n"
     ]
    }
   ],
   "source": [
    "list1 = (27,6,2007)\n",
    "for i in list1:\n",
    "    print(i)"
   ]
  },
  {
   "cell_type": "code",
   "execution_count": 20,
   "metadata": {},
   "outputs": [
    {
     "name": "stdout",
     "output_type": "stream",
     "text": [
      "k\n",
      "a\n",
      "r\n",
      "t\n",
      "h\n",
      "i\n",
      "k\n"
     ]
    }
   ],
   "source": [
    "count = 0\n",
    "word = \"karthik\"\n",
    "for i in word:\n",
    "    print(word[count])\n",
    "    count += 1"
   ]
  },
  {
   "cell_type": "code",
   "execution_count": 22,
   "metadata": {},
   "outputs": [
    {
     "name": "stdout",
     "output_type": "stream",
     "text": [
      "(0, 'k')\n",
      "(1, 'a')\n",
      "(2, 'r')\n",
      "(3, 't')\n",
      "(4, 'h')\n",
      "(5, 'i')\n",
      "(6, 'k')\n"
     ]
    }
   ],
   "source": [
    "\n",
    "word = \"karthik\"\n",
    "for i in enumerate(word):\n",
    "    print(i)"
   ]
  },
  {
   "cell_type": "markdown",
   "metadata": {},
   "source": [
    " num = int(input(\"Enter the number of students : \"))\n",
    "for i in range(0,num):\n",
    "    name = input(\"Enter your name : \")\n",
    "    Eng = int(input(\"Enter your mark in english : \"))\n",
    "    Mat = int(input(\"Enter your mark in maths : \"))\n",
    "    Tam = int(input(\"Enter your mark in tamil : \"))\n",
    "    Sol = int(input(\"Enter your mark in social : \"))\n",
    "    Sci = int(input(\"Enter your mark in science : \"))\n",
    "\n",
    "    per = (Eng + Mat + Tam + Sol + Sci)/500 * 100\n",
    "    print(per,\"%\")\n",
    "     \n",
    "    if per >= 90:\n",
    "        print(\"A1 grade\")\n",
    "        print(\"pass\")\n",
    "    elif per >= 80 and per < 90:\n",
    "        print(\"A2 grade\")\n",
    "        print(\"pass\")\n",
    "    elif per >= 70 and per < 80:\n",
    "        print(\"B1 grade\")\n",
    "        print(\"pass\")\n",
    "    elif per >= 60 and per < 70:\n",
    "        print(\"B2 grade\")\n",
    "        print(\"pass\")\n",
    "    elif per >= 50 and per < 60:\n",
    "        print(\"C1 grade\")\n",
    "        print(\"pass\")\n",
    "    elif per >= 40 and per < 50:\n",
    "        print(\"C2 grade\")\n",
    "        print(\"pass\")\n",
    "    elif per >= 30 and per < 40:\n",
    "        print(\"C2 grade\")\n",
    "        print(\"pass\")\n",
    "    elif per >= 20 and per < 30:\n",
    "        print(\"C2 grade\")\n",
    "        print(\"Fail\")\n",
    "    elif per >= 10 and per < 20:\n",
    "        print(\"C2 grade\")\n",
    "        print(\"Fail\")\n",
    "    elif per >= 0 and per < 10:\n",
    "        print(\"C2 grade\")\n",
    "        print(\"Fail\")\n",
    "    else: \n",
    "        print(\"Invalid mark\")\n",
    "    mark = [per]\n",
    "    y=0\n",
    "for x in marks:\n",
    " if marks[N] > marks[N+1]:\n",
    "  rank=rank+1\n",
    " if marks[N] == marks[N+1]:\n",
    "  rank=rank\n",
    "  y=y+1\n",
    "\n",
    "    \n"
   ]
  },
  {
   "cell_type": "code",
   "execution_count": 36,
   "metadata": {},
   "outputs": [
    {
     "name": "stdout",
     "output_type": "stream",
     "text": [
      "Enter the number of students : 2\n",
      "Enter your name : u\n",
      "Enter your mark in english : 78\n",
      "Enter your mark in maths : 78\n",
      "Enter your mark in tamil : 78\n",
      "Enter your mark in social : 78\n",
      "Enter your mark in science : 78\n",
      "78.0 %\n",
      "B1 grade\n",
      "pass\n",
      "Enter your name : h\n",
      "Enter your mark in english : 90\n",
      "Enter your mark in maths : 79\n",
      "Enter your mark in tamil : 78\n",
      "Enter your mark in social : 98\n",
      "Enter your mark in science : 89\n",
      "86.8 %\n",
      "A2 grade\n",
      "pass\n",
      "[86.8]\n"
     ]
    },
    {
     "ename": "NameError",
     "evalue": "name 'marks' is not defined",
     "output_type": "error",
     "traceback": [
      "\u001b[1;31m---------------------------------------------------------------------------\u001b[0m",
      "\u001b[1;31mNameError\u001b[0m                                 Traceback (most recent call last)",
      "\u001b[1;32m<ipython-input-36-64e56f5a7472>\u001b[0m in \u001b[0;36m<module>\u001b[1;34m\u001b[0m\n\u001b[0;32m     46\u001b[0m \u001b[0mprint\u001b[0m\u001b[1;33m(\u001b[0m\u001b[0mmark\u001b[0m\u001b[1;33m)\u001b[0m\u001b[1;33m\u001b[0m\u001b[1;33m\u001b[0m\u001b[0m\n\u001b[0;32m     47\u001b[0m \u001b[0my\u001b[0m\u001b[1;33m=\u001b[0m\u001b[1;36m0\u001b[0m\u001b[1;33m\u001b[0m\u001b[1;33m\u001b[0m\u001b[0m\n\u001b[1;32m---> 48\u001b[1;33m \u001b[1;32mfor\u001b[0m \u001b[0mx\u001b[0m \u001b[1;32min\u001b[0m \u001b[0mmarks\u001b[0m\u001b[1;33m:\u001b[0m\u001b[1;33m\u001b[0m\u001b[1;33m\u001b[0m\u001b[0m\n\u001b[0m\u001b[0;32m     49\u001b[0m     \u001b[1;32mif\u001b[0m \u001b[0mmarks\u001b[0m\u001b[1;33m[\u001b[0m\u001b[0mN\u001b[0m\u001b[1;33m]\u001b[0m \u001b[1;33m>\u001b[0m \u001b[0mmarks\u001b[0m\u001b[1;33m[\u001b[0m\u001b[0mN\u001b[0m\u001b[1;33m+\u001b[0m\u001b[1;36m1\u001b[0m\u001b[1;33m]\u001b[0m\u001b[1;33m:\u001b[0m\u001b[1;33m\u001b[0m\u001b[1;33m\u001b[0m\u001b[0m\n\u001b[0;32m     50\u001b[0m         \u001b[0mrank\u001b[0m\u001b[1;33m=\u001b[0m\u001b[0mrank\u001b[0m\u001b[1;33m+\u001b[0m\u001b[1;36m1\u001b[0m\u001b[1;33m\u001b[0m\u001b[1;33m\u001b[0m\u001b[0m\n",
      "\u001b[1;31mNameError\u001b[0m: name 'marks' is not defined"
     ]
    }
   ],
   "source": [
    "num = int(input(\"Enter the number of students : \")) \n",
    "for i in range(0,num): \n",
    "    name = input(\"Enter your name : \")\n",
    "    Eng = int(input(\"Enter your mark in english : \"))\n",
    "    Mat = int(input(\"Enter your mark in maths : \"))\n",
    "    Tam = int(input(\"Enter your mark in tamil : \"))\n",
    "    Sol = int(input(\"Enter your mark in social : \"))\n",
    "    Sci = int(input(\"Enter your mark in science : \"))\n",
    "\n",
    "    per = (Eng + Mat + Tam + Sol + Sci)/500 * 100\n",
    "    print(per,\"%\")\n",
    "\n",
    "    if per >= 90:\n",
    "        print(\"A1 grade\")\n",
    "        print(\"pass\")\n",
    "    elif per >= 80 and per < 90:\n",
    "        print(\"A2 grade\")\n",
    "        print(\"pass\")\n",
    "    elif per >= 70 and per < 80:\n",
    "        print(\"B1 grade\")\n",
    "        print(\"pass\")\n",
    "    elif per >= 60 and per < 70:\n",
    "        print(\"B2 grade\")\n",
    "        print(\"pass\")\n",
    "    elif per >= 50 and per < 60:\n",
    "        print(\"C1 grade\")\n",
    "        print(\"pass\")\n",
    "    elif per >= 40 and per < 50:\n",
    "        print(\"C2 grade\")\n",
    "        print(\"pass\")\n",
    "    elif per >= 30 and per < 40:\n",
    "        print(\"C2 grade\")\n",
    "        print(\"pass\")\n",
    "    elif per >= 20 and per < 30:\n",
    "        print(\"C2 grade\")\n",
    "        print(\"Fail\")\n",
    "    elif per >= 10 and per < 20:\n",
    "        print(\"C2 grade\")\n",
    "        print(\"Fail\")\n",
    "    elif per >= 0 and per < 10:\n",
    "        print(\"C2 grade\")\n",
    "        print(\"Fail\")\n",
    "    else: \n",
    "        print(\"Invalid mark\")\n",
    "marks = [per]\n",
    "print(mark)\n",
    "y=0\n",
    "for x in marks: \n",
    "    if marks[N] > marks[N+1]:\n",
    "        rank=rank+1 \n",
    "    if marks[N] == marks[N+1]:\n",
    "        rank=rank\n",
    "        y=y+1"
   ]
  },
  {
   "cell_type": "code",
   "execution_count": null,
   "metadata": {},
   "outputs": [],
   "source": []
  },
  {
   "cell_type": "code",
   "execution_count": null,
   "metadata": {},
   "outputs": [],
   "source": []
  }
 ],
 "metadata": {
  "kernelspec": {
   "display_name": "Python 3",
   "language": "python",
   "name": "python3"
  },
  "language_info": {
   "codemirror_mode": {
    "name": "ipython",
    "version": 3
   },
   "file_extension": ".py",
   "mimetype": "text/x-python",
   "name": "python",
   "nbconvert_exporter": "python",
   "pygments_lexer": "ipython3",
   "version": "3.8.5"
  }
 },
 "nbformat": 4,
 "nbformat_minor": 4
}
